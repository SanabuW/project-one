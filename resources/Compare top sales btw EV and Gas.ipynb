{
 "cells": [
  {
   "cell_type": "code",
   "execution_count": 1,
   "metadata": {},
   "outputs": [],
   "source": [
    "import pandas as pd \n",
    "import matplotlib.pyplot as plt\n",
    "import numpy as np\n",
    "\n",
    "\n",
    "EV_data = \"EVtop_sale_list.csv\"\n",
    "gas_data = \"gas_top_sale_list.csv\"\n",
    "yearly = \"Cali_Ev_Regular_Yearly_Price.csv\"\n",
    "\n",
    "EV_top = pd.read_csv(EV_data, encoding= \"ISO-8859-1\")\n",
    "gas_top = pd.read_csv(gas_data, encoding= \"ISO-8859-1\")\n",
    "yearly_price =  pd.read_csv(yearly, encoding= \"ISO-8859-1\")\n",
    "\n",
    "EV = EV_top[[\"Manufacturer and Model\",\"sale total\"]]\n",
    "gas = gas_top[[\"Model\", \"sale total\"]]\n",
    "\n",
    "\n",
    "EV = EV.head(10)\n",
    "gas = gas.head(10)\n"
   ]
  },
  {
   "cell_type": "code",
   "execution_count": 2,
   "metadata": {},
   "outputs": [
    {
     "data": {
      "text/html": [
       "<div>\n",
       "<style scoped>\n",
       "    .dataframe tbody tr th:only-of-type {\n",
       "        vertical-align: middle;\n",
       "    }\n",
       "\n",
       "    .dataframe tbody tr th {\n",
       "        vertical-align: top;\n",
       "    }\n",
       "\n",
       "    .dataframe thead th {\n",
       "        text-align: right;\n",
       "    }\n",
       "</style>\n",
       "<table border=\"1\" class=\"dataframe\">\n",
       "  <thead>\n",
       "    <tr style=\"text-align: right;\">\n",
       "      <th></th>\n",
       "      <th>Top 10 sale Gasoline Car</th>\n",
       "      <th>Sale Total for Gasoline Car</th>\n",
       "      <th>Top 10 sale EV Car</th>\n",
       "      <th>Sale Total for EV Car</th>\n",
       "    </tr>\n",
       "    <tr>\n",
       "      <th>Top 10 Place</th>\n",
       "      <th></th>\n",
       "      <th></th>\n",
       "      <th></th>\n",
       "      <th></th>\n",
       "    </tr>\n",
       "  </thead>\n",
       "  <tbody>\n",
       "    <tr>\n",
       "      <th>Top 1</th>\n",
       "      <td>Ford F-Series</td>\n",
       "      <td>787372.0</td>\n",
       "      <td>Tesla Model 3</td>\n",
       "      <td>163500.0</td>\n",
       "    </tr>\n",
       "    <tr>\n",
       "      <th>Top 2</th>\n",
       "      <td>Chevrolet Silverado</td>\n",
       "      <td>593057.0</td>\n",
       "      <td>Hyundai Kona</td>\n",
       "      <td>76253.0</td>\n",
       "    </tr>\n",
       "    <tr>\n",
       "      <th>Top 3</th>\n",
       "      <td>Ram Pickup</td>\n",
       "      <td>563676.0</td>\n",
       "      <td>Tesla Model Y</td>\n",
       "      <td>35000.0</td>\n",
       "    </tr>\n",
       "    <tr>\n",
       "      <th>Top 4</th>\n",
       "      <td>Toyota RAV4</td>\n",
       "      <td>430387.0</td>\n",
       "      <td>Chevrolet Bolt</td>\n",
       "      <td>20753.0</td>\n",
       "    </tr>\n",
       "    <tr>\n",
       "      <th>Top 5</th>\n",
       "      <td>Honda CR-V</td>\n",
       "      <td>323502.0</td>\n",
       "      <td>Tesla Model S</td>\n",
       "      <td>15300.0</td>\n",
       "    </tr>\n",
       "    <tr>\n",
       "      <th>Top 6</th>\n",
       "      <td>Toyota Camry</td>\n",
       "      <td>294348.0</td>\n",
       "      <td>Tesla Model X</td>\n",
       "      <td>15100.0</td>\n",
       "    </tr>\n",
       "    <tr>\n",
       "      <th>Top 7</th>\n",
       "      <td>Chevrolet Equinox</td>\n",
       "      <td>270994.0</td>\n",
       "      <td>Hyundai Ioniq</td>\n",
       "      <td>13570.0</td>\n",
       "    </tr>\n",
       "    <tr>\n",
       "      <th>Top 8</th>\n",
       "      <td>Honda Civic</td>\n",
       "      <td>261225.0</td>\n",
       "      <td>Nissan Leaf</td>\n",
       "      <td>9559.0</td>\n",
       "    </tr>\n",
       "    <tr>\n",
       "      <th>Top 9</th>\n",
       "      <td>GMC Sierra</td>\n",
       "      <td>253014.0</td>\n",
       "      <td>Audi eTron</td>\n",
       "      <td>7202.0</td>\n",
       "    </tr>\n",
       "    <tr>\n",
       "      <th>Top 10</th>\n",
       "      <td>Toyota Tacoma</td>\n",
       "      <td>238805.0</td>\n",
       "      <td>Honda Clarity FCV</td>\n",
       "      <td>3664.0</td>\n",
       "    </tr>\n",
       "  </tbody>\n",
       "</table>\n",
       "</div>"
      ],
      "text/plain": [
       "             Top 10 sale Gasoline Car  Sale Total for Gasoline Car  \\\n",
       "Top 10 Place                                                         \n",
       "Top 1                   Ford F-Series                     787372.0   \n",
       "Top 2             Chevrolet Silverado                     593057.0   \n",
       "Top 3                      Ram Pickup                     563676.0   \n",
       "Top 4                     Toyota RAV4                     430387.0   \n",
       "Top 5                      Honda CR-V                     323502.0   \n",
       "Top 6                    Toyota Camry                     294348.0   \n",
       "Top 7               Chevrolet Equinox                     270994.0   \n",
       "Top 8                     Honda Civic                     261225.0   \n",
       "Top 9                      GMC Sierra                     253014.0   \n",
       "Top 10                  Toyota Tacoma                     238805.0   \n",
       "\n",
       "             Top 10 sale EV Car  Sale Total for EV Car  \n",
       "Top 10 Place                                            \n",
       "Top 1             Tesla Model 3               163500.0  \n",
       "Top 2              Hyundai Kona                76253.0  \n",
       "Top 3             Tesla Model Y                35000.0  \n",
       "Top 4            Chevrolet Bolt                20753.0  \n",
       "Top 5             Tesla Model S                15300.0  \n",
       "Top 6             Tesla Model X                15100.0  \n",
       "Top 7             Hyundai Ioniq                13570.0  \n",
       "Top 8               Nissan Leaf                 9559.0  \n",
       "Top 9                Audi eTron                 7202.0  \n",
       "Top 10        Honda Clarity FCV                 3664.0  "
      ]
     },
     "execution_count": 2,
     "metadata": {},
     "output_type": "execute_result"
    }
   ],
   "source": [
    "\n",
    "top_sale = gas\n",
    "\n",
    "top_sale = top_sale.rename(columns={\"Model\":\"Top 10 sale Gasoline Car\", \"sale total\": \"Sale Total for Gasoline Car\"}) \n",
    "top_sale[\"Top 10 sale EV Car\"] = EV[\"Manufacturer and Model\"]\n",
    "top_sale[\"Sale Total for EV Car\"] = EV[\"sale total\"]\n",
    "place = [\"Top 1\",\"Top 2\",\"Top 3\",\"Top 4\",\"Top 5\",\"Top 6\",\"Top 7\",\"Top 8\",\"Top 9\",\"Top 10\",]\n",
    "top_sale[\"Top 10 Place\"] = place \n",
    "\n",
    "top_sale = top_sale.set_index(\"Top 10 Place\")  \n",
    "top_sale "
   ]
  },
  {
   "cell_type": "code",
   "execution_count": 3,
   "metadata": {},
   "outputs": [
    {
     "data": {
      "text/html": [
       "<div>\n",
       "<style scoped>\n",
       "    .dataframe tbody tr th:only-of-type {\n",
       "        vertical-align: middle;\n",
       "    }\n",
       "\n",
       "    .dataframe tbody tr th {\n",
       "        vertical-align: top;\n",
       "    }\n",
       "\n",
       "    .dataframe thead th {\n",
       "        text-align: right;\n",
       "    }\n",
       "</style>\n",
       "<table border=\"1\" class=\"dataframe\">\n",
       "  <thead>\n",
       "    <tr style=\"text-align: right;\">\n",
       "      <th></th>\n",
       "      <th>Top 10 sale Gasoline Car</th>\n",
       "      <th>Top 10 sale EV Car</th>\n",
       "    </tr>\n",
       "    <tr>\n",
       "      <th>Top 10 Place</th>\n",
       "      <th></th>\n",
       "      <th></th>\n",
       "    </tr>\n",
       "  </thead>\n",
       "  <tbody>\n",
       "    <tr>\n",
       "      <th>Top 1</th>\n",
       "      <td>Ford F-Series</td>\n",
       "      <td>Tesla Model 3</td>\n",
       "    </tr>\n",
       "    <tr>\n",
       "      <th>Top 2</th>\n",
       "      <td>Chevrolet Silverado</td>\n",
       "      <td>Hyundai Kona</td>\n",
       "    </tr>\n",
       "    <tr>\n",
       "      <th>Top 3</th>\n",
       "      <td>Ram Pickup</td>\n",
       "      <td>Tesla Model Y</td>\n",
       "    </tr>\n",
       "    <tr>\n",
       "      <th>Top 4</th>\n",
       "      <td>Toyota RAV4</td>\n",
       "      <td>Chevrolet Bolt</td>\n",
       "    </tr>\n",
       "    <tr>\n",
       "      <th>Top 5</th>\n",
       "      <td>Honda CR-V</td>\n",
       "      <td>Tesla Model S</td>\n",
       "    </tr>\n",
       "    <tr>\n",
       "      <th>Top 6</th>\n",
       "      <td>Toyota Camry</td>\n",
       "      <td>Tesla Model X</td>\n",
       "    </tr>\n",
       "    <tr>\n",
       "      <th>Top 7</th>\n",
       "      <td>Chevrolet Equinox</td>\n",
       "      <td>Hyundai Ioniq</td>\n",
       "    </tr>\n",
       "    <tr>\n",
       "      <th>Top 8</th>\n",
       "      <td>Honda Civic</td>\n",
       "      <td>Nissan Leaf</td>\n",
       "    </tr>\n",
       "    <tr>\n",
       "      <th>Top 9</th>\n",
       "      <td>GMC Sierra</td>\n",
       "      <td>Audi eTron</td>\n",
       "    </tr>\n",
       "    <tr>\n",
       "      <th>Top 10</th>\n",
       "      <td>Toyota Tacoma</td>\n",
       "      <td>Honda Clarity FCV</td>\n",
       "    </tr>\n",
       "  </tbody>\n",
       "</table>\n",
       "</div>"
      ],
      "text/plain": [
       "             Top 10 sale Gasoline Car Top 10 sale EV Car\n",
       "Top 10 Place                                            \n",
       "Top 1                   Ford F-Series      Tesla Model 3\n",
       "Top 2             Chevrolet Silverado       Hyundai Kona\n",
       "Top 3                      Ram Pickup      Tesla Model Y\n",
       "Top 4                     Toyota RAV4     Chevrolet Bolt\n",
       "Top 5                      Honda CR-V      Tesla Model S\n",
       "Top 6                    Toyota Camry      Tesla Model X\n",
       "Top 7               Chevrolet Equinox      Hyundai Ioniq\n",
       "Top 8                     Honda Civic        Nissan Leaf\n",
       "Top 9                      GMC Sierra         Audi eTron\n",
       "Top 10                  Toyota Tacoma  Honda Clarity FCV"
      ]
     },
     "execution_count": 3,
     "metadata": {},
     "output_type": "execute_result"
    }
   ],
   "source": [
    "top10 = top_sale[[\"Top 10 sale Gasoline Car\",\"Top 10 sale EV Car\"]]\n",
    "top10 "
   ]
  },
  {
   "cell_type": "markdown",
   "metadata": {},
   "source": [
    "base on the popularity we decide to make Tesla Model 3 for EV car and Ford F-Series for gasoline car for our candidates"
   ]
  },
  {
   "cell_type": "code",
   "execution_count": 4,
   "metadata": {},
   "outputs": [
    {
     "data": {
      "text/plain": [
       "Text(0, 0.5, 'Sale Total')"
      ]
     },
     "execution_count": 4,
     "metadata": {},
     "output_type": "execute_result"
    },
    {
     "data": {
      "image/png": "[encoded data removed]",
      "text/plain": [
       "<Figure size 1440x360 with 1 Axes>"
      ]
     },
     "metadata": {
      "needs_background": "light"
     },
     "output_type": "display_data"
    }
   ],
   "source": [
    "plot = top_sale.plot(kind=\"bar\", figsize=(20,5))\n",
    "plt.xticks(rotation = \"horizontal\")\n",
    "plt.title(\"Top 10 Gasolin & EV Car Total Sale Comparison\")\n",
    "plt.xlabel(\"Top 10 Car by Place\")\n",
    "plt.ylabel(\"Sale Total\")"
   ]
  },
  {
   "cell_type": "markdown",
   "metadata": {},
   "source": [
    "just by looking at the total sale for EV car and Gasoline car, \n",
    "we can see there is still huge difference, still way more people choose to buy gasoline car, but does that mean EV car not worth to buy?\n",
    "not necessary, we need to take every factor into our consideration.  \n",
    "\n",
    "let's talk about price."
   ]
  },
  {
   "cell_type": "code",
   "execution_count": 97,
   "metadata": {},
   "outputs": [
    {
     "data": {
      "text/html": [
       "<div>\n",
       "<style scoped>\n",
       "    .dataframe tbody tr th:only-of-type {\n",
       "        vertical-align: middle;\n",
       "    }\n",
       "\n",
       "    .dataframe tbody tr th {\n",
       "        vertical-align: top;\n",
       "    }\n",
       "\n",
       "    .dataframe thead th {\n",
       "        text-align: right;\n",
       "    }\n",
       "</style>\n",
       "<table border=\"1\" class=\"dataframe\">\n",
       "  <thead>\n",
       "    <tr style=\"text-align: right;\">\n",
       "      <th></th>\n",
       "      <th>Candidates</th>\n",
       "      <th>List Price</th>\n",
       "      <th>Cost of Charge/Gasoline Spent per Year</th>\n",
       "    </tr>\n",
       "  </thead>\n",
       "  <tbody>\n",
       "    <tr>\n",
       "      <th>0</th>\n",
       "      <td>Tesla Model 3</td>\n",
       "      <td>37990</td>\n",
       "      <td>687.192627</td>\n",
       "    </tr>\n",
       "    <tr>\n",
       "      <th>1</th>\n",
       "      <td>Ford F-Series</td>\n",
       "      <td>28745</td>\n",
       "      <td>2158.688721</td>\n",
       "    </tr>\n",
       "  </tbody>\n",
       "</table>\n",
       "</div>"
      ],
      "text/plain": [
       "      Candidates  List Price  Cost of Charge/Gasoline Spent per Year\n",
       "0  Tesla Model 3       37990                              687.192627\n",
       "1  Ford F-Series       28745                             2158.688721"
      ]
     },
     "execution_count": 97,
     "metadata": {},
     "output_type": "execute_result"
    }
   ],
   "source": [
    "EV_list = yearly_price.loc[yearly_price[\"Model\"]== \"Tesla Model 3\", [\"List Pricing\"]]\n",
    "EV_yearly = yearly_price.loc[yearly_price[\"Model\"]== \"Tesla Model 3\", [\"Yearly_EV_Price_Cali\"]]\n",
    "gas_list = yearly_price.loc[yearly_price[\"Model\"]== \"Ford F-Series\", [\"List Pricing\"]]\n",
    "gas_yearly = yearly_price.loc[yearly_price[\"Model\"]== \"Ford F-Series\", [\"Yearly_Gas_Price_Cali\"]]\n",
    "\n",
    "\n",
    "dictionary = {\"Candidates\": [\"Tesla Model 3\", \"Ford F-Series\"]}\n",
    "\n",
    "price = pd.DataFrame(dictionary)\n",
    "price[\"List Price\"] = \"\"\n",
    "price[\"Cost of Charge/Gasoline Spent per Year\"] = \"\"\n",
    "\n",
    "price.loc[price[\"Candidates\"]==\"Tesla Model 3\",[\"List Price\"]] = EV_list.iloc[0][\"List Pricing\"]\n",
    "price.loc[price[\"Candidates\"]==\"Tesla Model 3\",[\"Cost of Charge/Gasoline Spent per Year\"]] =EV_yearly.iloc[0][\"Yearly_EV_Price_Cali\"]\n",
    "\n",
    "price.loc[price[\"Candidates\"]==\"Ford F-Series\",[\"List Price\"]] = gas_list.iloc[0][\"List Pricing\"]\n",
    "price.loc[price[\"Candidates\"]==\"Ford F-Series\",[\"Cost of Charge/Gasoline Spent per Year\"]] =gas_yearly.iloc[0][\"Yearly_Gas_Price_Cali\"]\n",
    "\n",
    "\n",
    "\n",
    "\n",
    "price[\"List Price\"] = price[\"List Price\"].str.replace(\",\", \"\").str.replace(\"$\",\"\").astype(int)\n",
    "price[\"Cost of Charge/Gasoline Spent per Year\"] = pd.to_numeric(price[\"Cost of Charge/Gasoline Spent per Year\"], downcast=\"float\")\n",
    "\n",
    "\n",
    "price"
   ]
  },
  {
   "cell_type": "code",
   "execution_count": 98,
   "metadata": {},
   "outputs": [
    {
     "data": {
      "text/plain": [
       "Candidates                                 object\n",
       "List Price                                  int32\n",
       "Cost of Charge/Gasoline Spent per Year    float32\n",
       "dtype: object"
      ]
     },
     "execution_count": 98,
     "metadata": {},
     "output_type": "execute_result"
    }
   ],
   "source": [
    "price.dtypes"
   ]
  },
  {
   "cell_type": "code",
   "execution_count": 131,
   "metadata": {},
   "outputs": [],
   "source": [
    "evlist = price.loc[price[\"Candidates\"]==\"Tesla Model 3\",[\"List Price\"][0]]\n",
    "gaslist = price.loc[price[\"Candidates\"]==\"Ford F-Series\",[\"List Price\"][0]]\n",
    "\n",
    "ev_year_price =  price.loc[price[\"Candidates\"]==\"Tesla Model 3\",[\"Cost of Charge/Gasoline Spent per Year\"][0]]\n",
    "gas_year_price = price.loc[price[\"Candidates\"]==\"Ford F-Series\",[\"Cost of Charge/Gasoline Spent per Year\"][0]]\n",
    "\n",
    "\n",
    "EVcar_cost_year1to10 = []\n",
    "gascar_cost_year1to10 = []\n",
    "\n",
    "for a in range(1,11):\n",
    "    cost_from_begin = round(evlist.iloc[0] + ev_year_price.iloc[0]*a ,2)\n",
    "    EVcar_cost_year1to10.append(cost_from_begin)\n",
    "    \n",
    "    \n",
    "for b in range(1,11):\n",
    "    cost_from_begin = round(gaslist.iloc[0] + gas_year_price.iloc[0]*b ,2)\n",
    "    gascar_cost_year1to10.append(cost_from_begin)\n",
    "    "
   ]
  },
  {
   "cell_type": "code",
   "execution_count": 140,
   "metadata": {},
   "outputs": [],
   "source": [
    "dictionary = {\"Total Cost through the Years\": [\"Year1\",\"Year2\",\"Year3\",\"Year4\",\"Year5\",\"Year6\",\"Year7\",\"Year8\",\"Year9\",\"Year10\"]}\n",
    "\n",
    "cost = pd.DataFrame(dictionary)\n",
    "\n",
    "cost[\"Tesla Model 3\"] = EVcar_cost_year1to10\n",
    "cost[\"Ford F-Series\"] = gascar_cost_year1to10\n"
   ]
  },
  {
   "cell_type": "code",
   "execution_count": 141,
   "metadata": {},
   "outputs": [
    {
     "data": {
      "text/html": [
       "<div>\n",
       "<style scoped>\n",
       "    .dataframe tbody tr th:only-of-type {\n",
       "        vertical-align: middle;\n",
       "    }\n",
       "\n",
       "    .dataframe tbody tr th {\n",
       "        vertical-align: top;\n",
       "    }\n",
       "\n",
       "    .dataframe thead th {\n",
       "        text-align: right;\n",
       "    }\n",
       "</style>\n",
       "<table border=\"1\" class=\"dataframe\">\n",
       "  <thead>\n",
       "    <tr style=\"text-align: right;\">\n",
       "      <th></th>\n",
       "      <th>Total Cost through the Years</th>\n",
       "      <th>Tesla Model 3</th>\n",
       "      <th>Ford F-Series</th>\n",
       "    </tr>\n",
       "  </thead>\n",
       "  <tbody>\n",
       "    <tr>\n",
       "      <th>0</th>\n",
       "      <td>Year1</td>\n",
       "      <td>38677.19</td>\n",
       "      <td>30903.69</td>\n",
       "    </tr>\n",
       "    <tr>\n",
       "      <th>1</th>\n",
       "      <td>Year2</td>\n",
       "      <td>39364.39</td>\n",
       "      <td>33062.38</td>\n",
       "    </tr>\n",
       "    <tr>\n",
       "      <th>2</th>\n",
       "      <td>Year3</td>\n",
       "      <td>40051.58</td>\n",
       "      <td>35221.07</td>\n",
       "    </tr>\n",
       "    <tr>\n",
       "      <th>3</th>\n",
       "      <td>Year4</td>\n",
       "      <td>40738.77</td>\n",
       "      <td>37379.75</td>\n",
       "    </tr>\n",
       "    <tr>\n",
       "      <th>4</th>\n",
       "      <td>Year5</td>\n",
       "      <td>41425.96</td>\n",
       "      <td>39538.44</td>\n",
       "    </tr>\n",
       "    <tr>\n",
       "      <th>5</th>\n",
       "      <td>Year6</td>\n",
       "      <td>42113.16</td>\n",
       "      <td>41697.13</td>\n",
       "    </tr>\n",
       "    <tr>\n",
       "      <th>6</th>\n",
       "      <td>Year7</td>\n",
       "      <td>42800.35</td>\n",
       "      <td>43855.82</td>\n",
       "    </tr>\n",
       "    <tr>\n",
       "      <th>7</th>\n",
       "      <td>Year8</td>\n",
       "      <td>43487.54</td>\n",
       "      <td>46014.51</td>\n",
       "    </tr>\n",
       "    <tr>\n",
       "      <th>8</th>\n",
       "      <td>Year9</td>\n",
       "      <td>44174.73</td>\n",
       "      <td>48173.20</td>\n",
       "    </tr>\n",
       "    <tr>\n",
       "      <th>9</th>\n",
       "      <td>Year10</td>\n",
       "      <td>44861.93</td>\n",
       "      <td>50331.89</td>\n",
       "    </tr>\n",
       "  </tbody>\n",
       "</table>\n",
       "</div>"
      ],
      "text/plain": [
       "  Total Cost through the Years  Tesla Model 3  Ford F-Series\n",
       "0                        Year1       38677.19       30903.69\n",
       "1                        Year2       39364.39       33062.38\n",
       "2                        Year3       40051.58       35221.07\n",
       "3                        Year4       40738.77       37379.75\n",
       "4                        Year5       41425.96       39538.44\n",
       "5                        Year6       42113.16       41697.13\n",
       "6                        Year7       42800.35       43855.82\n",
       "7                        Year8       43487.54       46014.51\n",
       "8                        Year9       44174.73       48173.20\n",
       "9                       Year10       44861.93       50331.89"
      ]
     },
     "execution_count": 141,
     "metadata": {},
     "output_type": "execute_result"
    }
   ],
   "source": [
    "# cost = cost.set_index(\"Total Cost through the Years\")\n",
    "cost"
   ]
  },
  {
   "cell_type": "code",
   "execution_count": 165,
   "metadata": {},
   "outputs": [
    {
     "data": {
      "image/png": "[encoded data removed]",
      "text/plain": [
       "<Figure size 432x288 with 1 Axes>"
      ]
     },
     "metadata": {
      "needs_background": "light"
     },
     "output_type": "display_data"
    }
   ],
   "source": [
    "ford, = plt.plot(cost[\"Total Cost through the Years\"], cost[\"Ford F-Series\"], label = \"Ford F-Series\")\n",
    "tesla, =plt.plot(cost[\"Total Cost through the Years\"], cost[\"Tesla Model 3\"], label = \"Tesla Model 3\")\n",
    "plt.title(\"Total Cost through Year Comparison\") \n",
    "plt.xlabel(\"Years\") \n",
    "plt.ylabel(\"Price\") \n",
    "plt.legend(loc=\"upper left\")\n",
    "plt.grid()\n"
   ]
  },
  {
   "cell_type": "markdown",
   "metadata": {},
   "source": [
    "the break point is a little after 6 year, so if you are thinking to keep the car for more than 6 year,Tesla Model3 would save you more money. "
   ]
  }
 ],
 "metadata": {
  "kernelspec": {
   "display_name": "Python 3",
   "language": "python",
   "name": "python3"
  },
  "language_info": {
   "codemirror_mode": {
    "name": "ipython",
    "version": 3
   },
   "file_extension": ".py",
   "mimetype": "text/x-python",
   "name": "python",
   "nbconvert_exporter": "python",
   "pygments_lexer": "ipython3",
   "version": "3.6.10"
  }
 },
 "nbformat": 4,
 "nbformat_minor": 4
}
